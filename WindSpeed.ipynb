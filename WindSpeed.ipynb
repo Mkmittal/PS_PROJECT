{
  "nbformat": 4,
  "nbformat_minor": 0,
  "metadata": {
    "colab": {
      "name": "WindSpeed.ipynb",
      "provenance": [],
      "collapsed_sections": [],
      "authorship_tag": "ABX9TyNmVYbswKqo2lMmfVPCNQm7",
      "include_colab_link": true
    },
    "kernelspec": {
      "name": "python3",
      "display_name": "Python 3"
    },
    "accelerator": "GPU"
  },
  "cells": [
    {
      "cell_type": "markdown",
      "metadata": {
        "id": "view-in-github",
        "colab_type": "text"
      },
      "source": [
        "<a href=\"https://colab.research.google.com/github/Mkmittal/PS_PROJECT/blob/master/WindSpeed.ipynb\" target=\"_parent\"><img src=\"https://colab.research.google.com/assets/colab-badge.svg\" alt=\"Open In Colab\"/></a>"
      ]
    },
    {
      "cell_type": "code",
      "metadata": {
        "id": "yjtfsDR2HRa7",
        "colab_type": "code",
        "colab": {
          "base_uri": "https://localhost:8080/",
          "height": 34
        },
        "outputId": "8f102e5f-5af0-4738-fb79-56ebe0b9137a"
      },
      "source": [
        "%tensorflow_version 2.x\n",
        "import tensorflow as tf\n",
        "device_name = tf.test.gpu_device_name()\n",
        "if device_name != '/device:GPU:0':\n",
        "  raise SystemError('GPU device not found')\n",
        "print('Found GPU at: {}'.format(device_name))"
      ],
      "execution_count": 1,
      "outputs": [
        {
          "output_type": "stream",
          "text": [
            "Found GPU at: /device:GPU:0\n"
          ],
          "name": "stdout"
        }
      ]
    },
    {
      "cell_type": "code",
      "metadata": {
        "id": "PbREbV3lHg_G",
        "colab_type": "code",
        "colab": {
          "base_uri": "https://localhost:8080/",
          "height": 34
        },
        "outputId": "bd23633e-f777-4b2b-c3c4-5e88254bb5fb"
      },
      "source": [
        "%tensorflow_version 2.x\n",
        "import tensorflow as tf\n",
        "import timeit\n",
        "print(\"Num GPUs Available: \", len(tf.config.experimental.list_physical_devices('GPU')))"
      ],
      "execution_count": 4,
      "outputs": [
        {
          "output_type": "stream",
          "text": [
            "Num GPUs Available:  1\n"
          ],
          "name": "stdout"
        }
      ]
    },
    {
      "cell_type": "code",
      "metadata": {
        "id": "V7W_bwUNHsH_",
        "colab_type": "code",
        "colab": {}
      },
      "source": [
        "import pandas as pd\n",
        "import matplotlib.pyplot as plt"
      ],
      "execution_count": 8,
      "outputs": []
    },
    {
      "cell_type": "code",
      "metadata": {
        "id": "3pbne9ziMQ3m",
        "colab_type": "code",
        "colab": {
          "resources": {
            "http://localhost:8080/nbextensions/google.colab/files.js": {
              "data": "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",
              "ok": true,
              "headers": [
                [
                  "content-type",
                  "application/javascript"
                ]
              ],
              "status": 200,
              "status_text": ""
            }
          },
          "base_uri": "https://localhost:8080/",
          "height": 73
        },
        "outputId": "6722d6a3-a86a-4fa9-90d0-0fe50d43a945"
      },
      "source": [
        "from google.colab import files\n",
        "uploaded = files.upload()"
      ],
      "execution_count": 6,
      "outputs": [
        {
          "output_type": "display_data",
          "data": {
            "text/html": [
              "\n",
              "     <input type=\"file\" id=\"files-ba88a181-8b00-4f63-8b8e-187a815ca3a7\" name=\"files[]\" multiple disabled\n",
              "        style=\"border:none\" />\n",
              "     <output id=\"result-ba88a181-8b00-4f63-8b8e-187a815ca3a7\">\n",
              "      Upload widget is only available when the cell has been executed in the\n",
              "      current browser session. Please rerun this cell to enable.\n",
              "      </output>\n",
              "      <script src=\"/nbextensions/google.colab/files.js\"></script> "
            ],
            "text/plain": [
              "<IPython.core.display.HTML object>"
            ]
          },
          "metadata": {
            "tags": []
          }
        },
        {
          "output_type": "stream",
          "text": [
            "Saving G10_Wind_Time_data.csv to G10_Wind_Time_data.csv\n"
          ],
          "name": "stdout"
        }
      ]
    },
    {
      "cell_type": "code",
      "metadata": {
        "id": "9zuN2D5YOwnM",
        "colab_type": "code",
        "colab": {}
      },
      "source": [
        "import io\n",
        "df2 = pd.read_csv(io.BytesIO(uploaded['G10_Wind_Time_data.csv']))"
      ],
      "execution_count": 9,
      "outputs": []
    },
    {
      "cell_type": "code",
      "metadata": {
        "id": "wzfd3vlPPh5z",
        "colab_type": "code",
        "colab": {
          "base_uri": "https://localhost:8080/",
          "height": 402
        },
        "outputId": "58a7c94a-a23b-43f4-bfb9-426ada777059"
      },
      "source": [
        "df2"
      ],
      "execution_count": 10,
      "outputs": [
        {
          "output_type": "execute_result",
          "data": {
            "text/html": [
              "<div>\n",
              "<style scoped>\n",
              "    .dataframe tbody tr th:only-of-type {\n",
              "        vertical-align: middle;\n",
              "    }\n",
              "\n",
              "    .dataframe tbody tr th {\n",
              "        vertical-align: top;\n",
              "    }\n",
              "\n",
              "    .dataframe thead th {\n",
              "        text-align: right;\n",
              "    }\n",
              "</style>\n",
              "<table border=\"1\" class=\"dataframe\">\n",
              "  <thead>\n",
              "    <tr style=\"text-align: right;\">\n",
              "      <th></th>\n",
              "      <th>TimeStamp</th>\n",
              "      <th>WindSpeed</th>\n",
              "    </tr>\n",
              "  </thead>\n",
              "  <tbody>\n",
              "    <tr>\n",
              "      <th>0</th>\n",
              "      <td>2018-01-01 00:00:00+00:00</td>\n",
              "      <td>2.195344</td>\n",
              "    </tr>\n",
              "    <tr>\n",
              "      <th>1</th>\n",
              "      <td>2018-01-01 00:10:00+00:00</td>\n",
              "      <td>2.099560</td>\n",
              "    </tr>\n",
              "    <tr>\n",
              "      <th>2</th>\n",
              "      <td>2018-01-01 00:20:00+00:00</td>\n",
              "      <td>1.896112</td>\n",
              "    </tr>\n",
              "    <tr>\n",
              "      <th>3</th>\n",
              "      <td>2018-01-01 00:30:00+00:00</td>\n",
              "      <td>1.496820</td>\n",
              "    </tr>\n",
              "    <tr>\n",
              "      <th>4</th>\n",
              "      <td>2018-01-01 00:40:00+00:00</td>\n",
              "      <td>1.312798</td>\n",
              "    </tr>\n",
              "    <tr>\n",
              "      <th>...</th>\n",
              "      <td>...</td>\n",
              "      <td>...</td>\n",
              "    </tr>\n",
              "    <tr>\n",
              "      <th>118075</th>\n",
              "      <td>2020-03-30 23:10:00+00:00</td>\n",
              "      <td>4.870994</td>\n",
              "    </tr>\n",
              "    <tr>\n",
              "      <th>118076</th>\n",
              "      <td>2020-03-30 23:20:00+00:00</td>\n",
              "      <td>4.364661</td>\n",
              "    </tr>\n",
              "    <tr>\n",
              "      <th>118077</th>\n",
              "      <td>2020-03-30 23:30:00+00:00</td>\n",
              "      <td>4.443689</td>\n",
              "    </tr>\n",
              "    <tr>\n",
              "      <th>118078</th>\n",
              "      <td>2020-03-30 23:40:00+00:00</td>\n",
              "      <td>4.432279</td>\n",
              "    </tr>\n",
              "    <tr>\n",
              "      <th>118079</th>\n",
              "      <td>2020-03-30 23:50:00+00:00</td>\n",
              "      <td>4.562350</td>\n",
              "    </tr>\n",
              "  </tbody>\n",
              "</table>\n",
              "<p>118080 rows × 2 columns</p>\n",
              "</div>"
            ],
            "text/plain": [
              "                        TimeStamp  WindSpeed\n",
              "0       2018-01-01 00:00:00+00:00   2.195344\n",
              "1       2018-01-01 00:10:00+00:00   2.099560\n",
              "2       2018-01-01 00:20:00+00:00   1.896112\n",
              "3       2018-01-01 00:30:00+00:00   1.496820\n",
              "4       2018-01-01 00:40:00+00:00   1.312798\n",
              "...                           ...        ...\n",
              "118075  2020-03-30 23:10:00+00:00   4.870994\n",
              "118076  2020-03-30 23:20:00+00:00   4.364661\n",
              "118077  2020-03-30 23:30:00+00:00   4.443689\n",
              "118078  2020-03-30 23:40:00+00:00   4.432279\n",
              "118079  2020-03-30 23:50:00+00:00   4.562350\n",
              "\n",
              "[118080 rows x 2 columns]"
            ]
          },
          "metadata": {
            "tags": []
          },
          "execution_count": 10
        }
      ]
    },
    {
      "cell_type": "code",
      "metadata": {
        "id": "30hOxep7PmaI",
        "colab_type": "code",
        "colab": {}
      },
      "source": [
        "df=df2.dropna()"
      ],
      "execution_count": 11,
      "outputs": []
    },
    {
      "cell_type": "code",
      "metadata": {
        "id": "hbiYyj5lPrBx",
        "colab_type": "code",
        "colab": {
          "base_uri": "https://localhost:8080/",
          "height": 118
        },
        "outputId": "fcadbbdd-c3e0-4253-b2de-54051df96850"
      },
      "source": [
        "df['TimeStamp'] = pd.to_datetime(df['TimeStamp'],infer_datetime_format=True)\n",
        "indexedds = df.set_index(['TimeStamp'])"
      ],
      "execution_count": 15,
      "outputs": [
        {
          "output_type": "stream",
          "text": [
            "/usr/local/lib/python3.6/dist-packages/ipykernel_launcher.py:1: SettingWithCopyWarning: \n",
            "A value is trying to be set on a copy of a slice from a DataFrame.\n",
            "Try using .loc[row_indexer,col_indexer] = value instead\n",
            "\n",
            "See the caveats in the documentation: https://pandas.pydata.org/pandas-docs/stable/user_guide/indexing.html#returning-a-view-versus-a-copy\n",
            "  \"\"\"Entry point for launching an IPython kernel.\n"
          ],
          "name": "stderr"
        }
      ]
    },
    {
      "cell_type": "code",
      "metadata": {
        "id": "1kn2xTYHPrzv",
        "colab_type": "code",
        "colab": {
          "base_uri": "https://localhost:8080/",
          "height": 267
        },
        "outputId": "4d93c580-055b-49ab-b713-d370e1d53a61"
      },
      "source": [
        "plt.plot(indexedds)\n",
        "plt.show()"
      ],
      "execution_count": 16,
      "outputs": [
        {
          "output_type": "display_data",
          "data": {
            "image/png": "[encoded data removed]",
            "text/plain": [
              "<Figure size 432x288 with 1 Axes>"
            ]
          },
          "metadata": {
            "tags": [],
            "needs_background": "light"
          }
        }
      ]
    },
    {
      "cell_type": "code",
      "metadata": {
        "id": "LSc-YDr_Pv1i",
        "colab_type": "code",
        "colab": {
          "base_uri": "https://localhost:8080/",
          "height": 34
        },
        "outputId": "1538faab-53f7-4e02-c99b-480f0b6736e9"
      },
      "source": [
        "import numpy as np\n",
        "import matplotlib.pyplot as plt\n",
        "from keras.models import Sequential\n",
        "from keras.layers import Dense"
      ],
      "execution_count": 17,
      "outputs": [
        {
          "output_type": "stream",
          "text": [
            "Using TensorFlow backend.\n"
          ],
          "name": "stderr"
        }
      ]
    },
    {
      "cell_type": "code",
      "metadata": {
        "id": "0hzgbceiQJlk",
        "colab_type": "code",
        "colab": {
          "base_uri": "https://localhost:8080/",
          "height": 34
        },
        "outputId": "8bec958a-0a4b-419b-e76a-2e2b38a93220"
      },
      "source": [
        "n=20\n",
        "series = indexedds.head(int(len(indexedds)*(n/100)))\n",
        "dataset = series.values\n",
        "dataset = dataset.astype('float32')\n",
        "train_size = int(len(dataset) * 0.67)\n",
        "test_size = len(dataset) - train_size\n",
        "train, test = dataset[0:train_size,:], dataset[train_size:len(dataset),:]\n",
        "print(len(train), len(test))"
      ],
      "execution_count": 21,
      "outputs": [
        {
          "output_type": "stream",
          "text": [
            "12722 6267\n"
          ],
          "name": "stdout"
        }
      ]
    },
    {
      "cell_type": "code",
      "metadata": {
        "id": "1pgRTDsFQW6B",
        "colab_type": "code",
        "colab": {}
      },
      "source": [
        "def create_dataset(dataset, look_back=1):\n",
        "  # look_back is the no of previous values we want to use to predict the next value\n",
        "\tdataX, dataY = [], []\n",
        "\tfor i in range(len(dataset)-look_back-1):\n",
        "\t\ta = dataset[i:(i+look_back), 0]\n",
        "\t\tdataX.append(a)\n",
        "\t\tdataY.append(dataset[i + look_back, 0])\n",
        "\treturn np.array(dataX), np.array(dataY)"
      ],
      "execution_count": 22,
      "outputs": []
    },
    {
      "cell_type": "code",
      "metadata": {
        "id": "8U5pUX4ZRNKU",
        "colab_type": "code",
        "colab": {}
      },
      "source": [
        "look_back = 1\n",
        "trainX, trainY = create_dataset(train, look_back)\n",
        "testX, testY = create_dataset(test, look_back)"
      ],
      "execution_count": 23,
      "outputs": []
    },
    {
      "cell_type": "code",
      "metadata": {
        "id": "TZUjsN26RR2a",
        "colab_type": "code",
        "colab": {
          "base_uri": "https://localhost:8080/",
          "height": 1000
        },
        "outputId": "b6ce3af6-9aab-4101-93ad-d1915c3abcd2"
      },
      "source": [
        "model = Sequential()\n",
        "model.add(Dense(8, input_dim=look_back, activation='relu'))\n",
        "model.add(Dense(1))\n",
        "model.compile(loss='mean_squared_error', optimizer='adam')\n",
        "model.fit(trainX, trainY, epochs=200, batch_size=2, verbose=2)"
      ],
      "execution_count": 24,
      "outputs": [
        {
          "output_type": "stream",
          "text": [
            "Epoch 1/200\n",
            " - 16s - loss: 0.6478\n",
            "Epoch 2/200\n",
            " - 16s - loss: 0.5191\n",
            "Epoch 3/200\n",
            " - 16s - loss: 0.5208\n",
            "Epoch 4/200\n",
            " - 16s - loss: 0.5210\n",
            "Epoch 5/200\n",
            " - 16s - loss: 0.5187\n",
            "Epoch 6/200\n",
            " - 16s - loss: 0.5190\n",
            "Epoch 7/200\n",
            " - 16s - loss: 0.5193\n",
            "Epoch 8/200\n",
            " - 17s - loss: 0.5201\n",
            "Epoch 9/200\n",
            " - 16s - loss: 0.5191\n",
            "Epoch 10/200\n",
            " - 16s - loss: 0.5196\n",
            "Epoch 11/200\n",
            " - 16s - loss: 0.5195\n",
            "Epoch 12/200\n",
            " - 16s - loss: 0.5186\n",
            "Epoch 13/200\n",
            " - 16s - loss: 0.5187\n",
            "Epoch 14/200\n",
            " - 16s - loss: 0.5181\n",
            "Epoch 15/200\n",
            " - 16s - loss: 0.5193\n",
            "Epoch 16/200\n",
            " - 16s - loss: 0.5194\n",
            "Epoch 17/200\n",
            " - 16s - loss: 0.5189\n",
            "Epoch 18/200\n",
            " - 16s - loss: 0.5187\n",
            "Epoch 19/200\n",
            " - 16s - loss: 0.5193\n",
            "Epoch 20/200\n",
            " - 16s - loss: 0.5171\n",
            "Epoch 21/200\n",
            " - 16s - loss: 0.5186\n",
            "Epoch 22/200\n",
            " - 16s - loss: 0.5168\n",
            "Epoch 23/200\n",
            " - 16s - loss: 0.5179\n",
            "Epoch 24/200\n",
            " - 16s - loss: 0.5175\n",
            "Epoch 25/200\n",
            " - 16s - loss: 0.5175\n",
            "Epoch 26/200\n",
            " - 16s - loss: 0.5161\n",
            "Epoch 27/200\n",
            " - 16s - loss: 0.5159\n",
            "Epoch 28/200\n",
            " - 16s - loss: 0.5159\n",
            "Epoch 29/200\n",
            " - 16s - loss: 0.5164\n",
            "Epoch 30/200\n",
            " - 16s - loss: 0.5151\n",
            "Epoch 31/200\n",
            " - 16s - loss: 0.5152\n",
            "Epoch 32/200\n",
            " - 16s - loss: 0.5159\n",
            "Epoch 33/200\n",
            " - 16s - loss: 0.5160\n",
            "Epoch 34/200\n",
            " - 16s - loss: 0.5147\n",
            "Epoch 35/200\n",
            " - 16s - loss: 0.5156\n",
            "Epoch 36/200\n",
            " - 16s - loss: 0.5157\n",
            "Epoch 37/200\n",
            " - 16s - loss: 0.5153\n",
            "Epoch 38/200\n",
            " - 16s - loss: 0.5149\n",
            "Epoch 39/200\n",
            " - 16s - loss: 0.5134\n",
            "Epoch 40/200\n",
            " - 16s - loss: 0.5146\n",
            "Epoch 41/200\n",
            " - 16s - loss: 0.5135\n",
            "Epoch 42/200\n",
            " - 16s - loss: 0.5133\n",
            "Epoch 43/200\n",
            " - 16s - loss: 0.5136\n",
            "Epoch 44/200\n",
            " - 16s - loss: 0.5138\n",
            "Epoch 45/200\n",
            " - 16s - loss: 0.5139\n",
            "Epoch 46/200\n",
            " - 16s - loss: 0.5144\n",
            "Epoch 47/200\n",
            " - 17s - loss: 0.5138\n",
            "Epoch 48/200\n",
            " - 16s - loss: 0.5139\n",
            "Epoch 49/200\n",
            " - 16s - loss: 0.5133\n",
            "Epoch 50/200\n",
            " - 16s - loss: 0.5137\n",
            "Epoch 51/200\n",
            " - 16s - loss: 0.5126\n",
            "Epoch 52/200\n",
            " - 16s - loss: 0.5140\n",
            "Epoch 53/200\n",
            " - 16s - loss: 0.5141\n",
            "Epoch 54/200\n",
            " - 16s - loss: 0.5138\n",
            "Epoch 55/200\n",
            " - 16s - loss: 0.5150\n",
            "Epoch 56/200\n",
            " - 16s - loss: 0.5114\n",
            "Epoch 57/200\n",
            " - 16s - loss: 0.5120\n",
            "Epoch 58/200\n",
            " - 16s - loss: 0.5130\n",
            "Epoch 59/200\n",
            " - 16s - loss: 0.5131\n",
            "Epoch 60/200\n",
            " - 16s - loss: 0.5129\n",
            "Epoch 61/200\n",
            " - 16s - loss: 0.5132\n",
            "Epoch 62/200\n",
            " - 16s - loss: 0.5128\n",
            "Epoch 63/200\n",
            " - 16s - loss: 0.5135\n",
            "Epoch 64/200\n",
            " - 16s - loss: 0.5126\n",
            "Epoch 65/200\n",
            " - 15s - loss: 0.5137\n",
            "Epoch 66/200\n",
            " - 15s - loss: 0.5137\n",
            "Epoch 67/200\n",
            " - 16s - loss: 0.5134\n",
            "Epoch 68/200\n",
            " - 16s - loss: 0.5137\n",
            "Epoch 69/200\n",
            " - 16s - loss: 0.5133\n",
            "Epoch 70/200\n",
            " - 16s - loss: 0.5130\n",
            "Epoch 71/200\n",
            " - 16s - loss: 0.5128\n",
            "Epoch 72/200\n",
            " - 16s - loss: 0.5140\n",
            "Epoch 73/200\n",
            " - 16s - loss: 0.5133\n",
            "Epoch 74/200\n",
            " - 16s - loss: 0.5130\n",
            "Epoch 75/200\n",
            " - 16s - loss: 0.5128\n",
            "Epoch 76/200\n",
            " - 16s - loss: 0.5132\n",
            "Epoch 77/200\n",
            " - 16s - loss: 0.5136\n",
            "Epoch 78/200\n",
            " - 16s - loss: 0.5128\n",
            "Epoch 79/200\n",
            " - 16s - loss: 0.5132\n",
            "Epoch 80/200\n",
            " - 16s - loss: 0.5142\n",
            "Epoch 81/200\n",
            " - 15s - loss: 0.5128\n",
            "Epoch 82/200\n",
            " - 16s - loss: 0.5131\n",
            "Epoch 83/200\n",
            " - 16s - loss: 0.5139\n",
            "Epoch 84/200\n",
            " - 16s - loss: 0.5130\n",
            "Epoch 85/200\n",
            " - 15s - loss: 0.5129\n",
            "Epoch 86/200\n",
            " - 16s - loss: 0.5113\n",
            "Epoch 87/200\n",
            " - 16s - loss: 0.5121\n",
            "Epoch 88/200\n",
            " - 16s - loss: 0.5140\n",
            "Epoch 89/200\n",
            " - 16s - loss: 0.5133\n",
            "Epoch 90/200\n",
            " - 16s - loss: 0.5137\n",
            "Epoch 91/200\n",
            " - 16s - loss: 0.5126\n",
            "Epoch 92/200\n",
            " - 16s - loss: 0.5132\n",
            "Epoch 93/200\n",
            " - 16s - loss: 0.5120\n",
            "Epoch 94/200\n",
            " - 16s - loss: 0.5123\n",
            "Epoch 95/200\n",
            " - 16s - loss: 0.5115\n",
            "Epoch 96/200\n",
            " - 16s - loss: 0.5139\n",
            "Epoch 97/200\n",
            " - 16s - loss: 0.5127\n",
            "Epoch 98/200\n",
            " - 16s - loss: 0.5133\n",
            "Epoch 99/200\n",
            " - 16s - loss: 0.5131\n",
            "Epoch 100/200\n",
            " - 16s - loss: 0.5131\n",
            "Epoch 101/200\n",
            " - 16s - loss: 0.5125\n",
            "Epoch 102/200\n",
            " - 16s - loss: 0.5128\n",
            "Epoch 103/200\n",
            " - 16s - loss: 0.5140\n",
            "Epoch 104/200\n",
            " - 16s - loss: 0.5129\n",
            "Epoch 105/200\n",
            " - 16s - loss: 0.5129\n",
            "Epoch 106/200\n",
            " - 16s - loss: 0.5139\n",
            "Epoch 107/200\n",
            " - 16s - loss: 0.5132\n",
            "Epoch 108/200\n",
            " - 16s - loss: 0.5120\n",
            "Epoch 109/200\n",
            " - 16s - loss: 0.5135\n",
            "Epoch 110/200\n",
            " - 16s - loss: 0.5132\n",
            "Epoch 111/200\n",
            " - 16s - loss: 0.5134\n",
            "Epoch 112/200\n",
            " - 16s - loss: 0.5129\n",
            "Epoch 113/200\n",
            " - 16s - loss: 0.5141\n",
            "Epoch 114/200\n",
            " - 16s - loss: 0.5130\n",
            "Epoch 115/200\n",
            " - 16s - loss: 0.5139\n",
            "Epoch 116/200\n",
            " - 16s - loss: 0.5132\n",
            "Epoch 117/200\n",
            " - 16s - loss: 0.5133\n",
            "Epoch 118/200\n",
            " - 16s - loss: 0.5143\n",
            "Epoch 119/200\n",
            " - 16s - loss: 0.5127\n",
            "Epoch 120/200\n",
            " - 16s - loss: 0.5116\n",
            "Epoch 121/200\n",
            " - 16s - loss: 0.5120\n",
            "Epoch 122/200\n",
            " - 16s - loss: 0.5129\n",
            "Epoch 123/200\n",
            " - 16s - loss: 0.5131\n",
            "Epoch 124/200\n",
            " - 16s - loss: 0.5134\n",
            "Epoch 125/200\n",
            " - 16s - loss: 0.5125\n",
            "Epoch 126/200\n",
            " - 16s - loss: 0.5121\n",
            "Epoch 127/200\n",
            " - 16s - loss: 0.5128\n",
            "Epoch 128/200\n",
            " - 16s - loss: 0.5126\n",
            "Epoch 129/200\n",
            " - 16s - loss: 0.5117\n",
            "Epoch 130/200\n",
            " - 16s - loss: 0.5130\n",
            "Epoch 131/200\n",
            " - 16s - loss: 0.5131\n",
            "Epoch 132/200\n",
            " - 16s - loss: 0.5122\n",
            "Epoch 133/200\n",
            " - 16s - loss: 0.5120\n",
            "Epoch 134/200\n",
            " - 16s - loss: 0.5119\n",
            "Epoch 135/200\n",
            " - 16s - loss: 0.5125\n",
            "Epoch 136/200\n",
            " - 16s - loss: 0.5116\n",
            "Epoch 137/200\n",
            " - 16s - loss: 0.5114\n",
            "Epoch 138/200\n",
            " - 16s - loss: 0.5130\n",
            "Epoch 139/200\n",
            " - 16s - loss: 0.5121\n",
            "Epoch 140/200\n",
            " - 16s - loss: 0.5132\n",
            "Epoch 141/200\n",
            " - 16s - loss: 0.5118\n",
            "Epoch 142/200\n",
            " - 16s - loss: 0.5127\n",
            "Epoch 143/200\n",
            " - 16s - loss: 0.5119\n",
            "Epoch 144/200\n",
            " - 16s - loss: 0.5112\n",
            "Epoch 145/200\n",
            " - 16s - loss: 0.5114\n",
            "Epoch 146/200\n",
            " - 16s - loss: 0.5105\n",
            "Epoch 147/200\n",
            " - 16s - loss: 0.5115\n",
            "Epoch 148/200\n",
            " - 16s - loss: 0.5111\n",
            "Epoch 149/200\n",
            " - 16s - loss: 0.5112\n",
            "Epoch 150/200\n",
            " - 16s - loss: 0.5112\n",
            "Epoch 151/200\n",
            " - 16s - loss: 0.5108\n",
            "Epoch 152/200\n",
            " - 16s - loss: 0.5110\n",
            "Epoch 153/200\n",
            " - 16s - loss: 0.5106\n",
            "Epoch 154/200\n",
            " - 16s - loss: 0.5118\n",
            "Epoch 155/200\n",
            " - 16s - loss: 0.5116\n",
            "Epoch 156/200\n",
            " - 16s - loss: 0.5117\n",
            "Epoch 157/200\n",
            " - 16s - loss: 0.5115\n",
            "Epoch 158/200\n",
            " - 16s - loss: 0.5121\n",
            "Epoch 159/200\n",
            " - 16s - loss: 0.5102\n",
            "Epoch 160/200\n",
            " - 16s - loss: 0.5112\n",
            "Epoch 161/200\n",
            " - 16s - loss: 0.5121\n",
            "Epoch 162/200\n",
            " - 16s - loss: 0.5113\n",
            "Epoch 163/200\n",
            " - 16s - loss: 0.5101\n",
            "Epoch 164/200\n",
            " - 16s - loss: 0.5117\n",
            "Epoch 165/200\n",
            " - 16s - loss: 0.5106\n",
            "Epoch 166/200\n",
            " - 16s - loss: 0.5118\n",
            "Epoch 167/200\n",
            " - 16s - loss: 0.5112\n",
            "Epoch 168/200\n",
            " - 16s - loss: 0.5112\n",
            "Epoch 169/200\n",
            " - 16s - loss: 0.5111\n",
            "Epoch 170/200\n",
            " - 16s - loss: 0.5108\n",
            "Epoch 171/200\n",
            " - 16s - loss: 0.5107\n",
            "Epoch 172/200\n",
            " - 16s - loss: 0.5110\n",
            "Epoch 173/200\n",
            " - 16s - loss: 0.5105\n",
            "Epoch 174/200\n",
            " - 16s - loss: 0.5106\n",
            "Epoch 175/200\n",
            " - 16s - loss: 0.5112\n",
            "Epoch 176/200\n",
            " - 16s - loss: 0.5106\n",
            "Epoch 177/200\n",
            " - 16s - loss: 0.5111\n",
            "Epoch 178/200\n",
            " - 16s - loss: 0.5108\n",
            "Epoch 179/200\n",
            " - 16s - loss: 0.5113\n",
            "Epoch 180/200\n",
            " - 16s - loss: 0.5113\n",
            "Epoch 181/200\n",
            " - 16s - loss: 0.5109\n",
            "Epoch 182/200\n",
            " - 16s - loss: 0.5118\n",
            "Epoch 183/200\n",
            " - 16s - loss: 0.5105\n",
            "Epoch 184/200\n",
            " - 15s - loss: 0.5105\n",
            "Epoch 185/200\n",
            " - 16s - loss: 0.5119\n",
            "Epoch 186/200\n",
            " - 17s - loss: 0.5105\n",
            "Epoch 187/200\n",
            " - 16s - loss: 0.5111\n",
            "Epoch 188/200\n",
            " - 16s - loss: 0.5114\n",
            "Epoch 189/200\n",
            " - 16s - loss: 0.5115\n",
            "Epoch 190/200\n",
            " - 16s - loss: 0.5102\n",
            "Epoch 191/200\n",
            " - 16s - loss: 0.5110\n",
            "Epoch 192/200\n",
            " - 16s - loss: 0.5116\n",
            "Epoch 193/200\n",
            " - 16s - loss: 0.5116\n",
            "Epoch 194/200\n",
            " - 16s - loss: 0.5115\n",
            "Epoch 195/200\n",
            " - 16s - loss: 0.5109\n",
            "Epoch 196/200\n",
            " - 16s - loss: 0.5114\n",
            "Epoch 197/200\n",
            " - 16s - loss: 0.5117\n",
            "Epoch 198/200\n",
            " - 16s - loss: 0.5110\n",
            "Epoch 199/200\n",
            " - 16s - loss: 0.5114\n",
            "Epoch 200/200\n",
            " - 16s - loss: 0.5118\n"
          ],
          "name": "stdout"
        },
        {
          "output_type": "execute_result",
          "data": {
            "text/plain": [
              "<keras.callbacks.callbacks.History at 0x7f61d2660e80>"
            ]
          },
          "metadata": {
            "tags": []
          },
          "execution_count": 24
        }
      ]
    },
    {
      "cell_type": "code",
      "metadata": {
        "id": "4SSt56X2SMRf",
        "colab_type": "code",
        "colab": {
          "base_uri": "https://localhost:8080/",
          "height": 298
        },
        "outputId": "1b49c188-1f14-4386-edfc-ab579c1d39a4"
      },
      "source": [
        "import math\n",
        "trainScore = model.evaluate(trainX, trainY, verbose=0)\n",
        "print('Train Score: %.2f MSE (%.2f RMSE)' % (trainScore, math.sqrt(trainScore)))\n",
        "testScore = model.evaluate(testX, testY, verbose=0)\n",
        "print('Test Score: %.2f MSE (%.2f RMSE)' % (testScore, math.sqrt(testScore)))\n",
        "trainPredict = model.predict(trainX)\n",
        "testPredict = model.predict(testX)\n",
        "# shift train predictions for plotting\n",
        "trainPredictPlot = np.empty_like(dataset)\n",
        "trainPredictPlot[:, :] = np.nan\n",
        "trainPredictPlot[look_back:len(trainPredict)+look_back, :] = trainPredict\n",
        "# shift test predictions for plotting\n",
        "testPredictPlot = np.empty_like(dataset)\n",
        "testPredictPlot[:, :] = np.nan\n",
        "testPredictPlot[len(trainPredict)+(look_back*2)+1:len(dataset)-1, :] = testPredict\n",
        "# plot baseline and predictions\n",
        "\n",
        "# plt.plot(trainPredictPlot)\n",
        "# plt.plot(dataset[18880:])\n",
        "plt.plot(testPredictPlot)\n",
        "plt.show()"
      ],
      "execution_count": 54,
      "outputs": [
        {
          "output_type": "stream",
          "text": [
            "Train Score: 0.51 MSE (0.71 RMSE)\n",
            "Test Score: 1.32 MSE (1.15 RMSE)\n"
          ],
          "name": "stdout"
        },
        {
          "output_type": "display_data",
          "data": {
            "image/png": "[encoded data removed]",
            "text/plain": [
              "<Figure size 432x288 with 1 Axes>"
            ]
          },
          "metadata": {
            "tags": [],
            "needs_background": "light"
          }
        }
      ]
    },
    {
      "cell_type": "code",
      "metadata": {
        "id": "jAthMVIPSkDx",
        "colab_type": "code",
        "colab": {
          "base_uri": "https://localhost:8080/",
          "height": 34
        },
        "outputId": "fb6b2da1-eb39-4e90-b301-2326e5290d8e"
      },
      "source": [
        "def percentage_error(actual, predicted):\n",
        "    res = np.empty(actual.shape)\n",
        "    for j in range(actual.shape[0]):\n",
        "        if actual[j] != 0:\n",
        "            res[j] = (actual[j] - predicted[j]) / actual[j]\n",
        "        else:\n",
        "            res[j] = predicted[j] / np.mean(actual)\n",
        "    return res\n",
        "\n",
        "def mean_absolute_percentage_error(y_true, y_pred): \n",
        "    return np.mean(np.abs(percentage_error(np.asarray(y_true), np.asarray(y_pred)))) * 100\n",
        "print(mean_absolute_percentage_error(testY,testPredict))"
      ],
      "execution_count": 50,
      "outputs": [
        {
          "output_type": "stream",
          "text": [
            "8.471924629417698\n"
          ],
          "name": "stdout"
        }
      ]
    },
    {
      "cell_type": "code",
      "metadata": {
        "id": "ZgAPPjMSl0N0",
        "colab_type": "code",
        "colab": {}
      },
      "source": [
        ""
      ],
      "execution_count": null,
      "outputs": []
    }
  ]
}